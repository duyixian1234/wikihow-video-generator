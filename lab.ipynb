{
 "cells": [
  {
   "cell_type": "code",
   "execution_count": 1,
   "id": "afb1ae58-529a-40d1-b7ca-0bdc0206778f",
   "metadata": {},
   "outputs": [],
   "source": [
    "%load_ext autoreload\n",
    "%autoreload 2"
   ]
  },
  {
   "cell_type": "code",
   "execution_count": 19,
   "id": "c0d7e381-433a-4701-a370-2d19f4b999a0",
   "metadata": {},
   "outputs": [],
   "source": [
    "import IPython.display as ipd\n",
    "from pathlib import Path"
   ]
  },
  {
   "cell_type": "code",
   "execution_count": 74,
   "id": "7a115ab5-d5e7-4856-bd1b-9006aa6b7bcd",
   "metadata": {},
   "outputs": [],
   "source": [
    "from transform import transform\n",
    "from utils import tokenize"
   ]
  },
  {
   "cell_type": "code",
   "execution_count": 65,
   "id": "08c44633-6f47-43c3-b9a4-1be15f9346f1",
   "metadata": {},
   "outputs": [],
   "source": [
    "text = \"\"\"医用口罩也被称为手术口罩，主要是医护人员用来保护自己和他人，避免接触经由空气传播的传染病、体液和微粒物质。[1] 在传染病爆发期间，卫生部也会建议民众戴医用口罩来保护自己。这些口罩都是比较宽松的，能完全遮住鼻子和嘴巴。[2][3]\n",
    "\n",
    "方法\n",
    "1\n",
    "了解医用口罩\n",
    "以Put on a Medical Mask Step 13为标题的图片\n",
    "1\n",
    "了解医用口罩的保护作用。医用或手术口罩是用来遮盖嘴巴和鼻子的，所使用的材质可以阻挡大的颗粒、喷雾和飞溅物，所有这些都可能含有对身体有害的病毒或细菌。[4]\n",
    "然而，小的颗粒还是能穿透医用口罩，而且由于口罩和皮肤之间仍然有缝隙，颗粒也能从这些开口处穿过。\n",
    "以Put on a Medical Mask Step 14为标题的图片\n",
    "2\n",
    "了解普通医用口罩和N95口罩的差别。N95口罩被医护人员用来阻挡95%的微小颗粒。和普通医用口罩不同，它们更贴合脸部和皮肤，可以过滤悬浮颗粒。[5]\n",
    "虽然N95口罩可以阻挡95%的0.3微米颗粒，但还是有5%的有害颗粒可能穿透它。\n",
    "N95口罩不适合儿童或蓄胡须的人佩戴。\n",
    "有的N95口罩有呼气阀，用于减少口罩内湿气积聚，好让佩戴者呼吸更顺畅。不过，它们不能在无菌环境使用，因为呼气阀会让空气从口罩内部流出。这些空气未经过滤，而且可能受污染。[6]\n",
    "一般来说，每款N95口罩应该附带生产商详细的佩戴和摘除指示。为了确保你和病人获得适当的保护，一定要遵守这些指示，并以它们为准。职业安全与健康管理局（OSHA）也要求使用NP5口罩前，必须接受正确佩戴方法的培训。[7]\n",
    "方法\n",
    "2\n",
    "戴口罩\n",
    "以Put on a Medical Mask Step 1为标题的图片\n",
    "1\n",
    "清洁双手。触碰干净的医用口罩之前，一定要用肥皂和水把双手洗得干干净净。[8]\n",
    "沾湿双手，抹上肥皂，互相揉搓至少20秒才冲洗干净。[9]\n",
    "用干净的纸巾擦干手，然后将纸巾丢进垃圾桶。你可以先用擦过手的纸巾开门或关门，再把它们丢掉。\n",
    "小提示：洗手后，开关门时用纸巾包住门把手，然后把用过的纸巾丢弃。\n",
    "\n",
    "以Put on a Medical Mask Step 2为标题的图片\n",
    "2\n",
    "检查医用口罩是否有瑕疵。从盒子中取出一个没有用过的新口罩后，一定要先检查是否有瑕疵、破洞或裂缝。如果有，把它丢掉，再重新拿一个没有用过的新口罩。[10]\n",
    "以Put on a Medical Mask Step 3为标题的图片\n",
    "3\n",
    "正确辨别口罩的上方。为了让口罩尽量紧贴皮肤，口罩上方有可以顺着鼻子轮廓随意弯曲的硬条。戴口罩之前，确保可弯曲的一侧朝上。[11]\n",
    "以Put on a Medical Mask Step 4为标题的图片\n",
    "4\n",
    "确保正确的一面朝外。大部分医用口罩内面是白色的，外面则是其它颜色。戴口罩之前，确保白色那一面朝向你的脸。[12]\n",
    "以Put on a Medical Mask Step 5为标题的图片\n",
    "5\n",
    "戴上口罩。医用口罩有很多类型，每一种的戴法都不一样。[13]\n",
    "耳挂带 — 有的口罩两侧有耳挂带，通常由弹性材料做成，所以可以拉伸。双手拿起耳挂带，分别挂到两侧耳朵上。\n",
    "绑带 — 有的口罩有带子让你绑在头的后面。大部分口罩上缘和下缘都有绑带。拿起上缘绑带，将它们绕到头顶的后面打个蝴蝶结。\n",
    "头带 — 有的口罩有两条松紧带，可以拉到头的后面，而不是挂在耳朵。将口罩举到面前，将上缘的松紧带拉过头，置于头顶。然后将下缘的松紧带拉过头，置于后脑勺。\n",
    "以Put on a Medical Mask Step 6为标题的图片\n",
    "6\n",
    "调整鼻夹。把医用口罩戴上后，用食指和拇指捏一捏鼻梁周围可弯曲的硬条。[14]\n",
    "以Put on a Medical Mask Step 7为标题的图片\n",
    "7\n",
    "如有必要，系上口罩的下缘带子。如果口罩上下都有绑带，现在可以将下缘绑带系在后脑勺。由于调整鼻夹会影响口罩的贴合度，最好调整好鼻夹后才系下缘绑带。[15]\n",
    "如果你已经系了下缘绑带，可以根据需要重新系紧一些。\n",
    "以Put on a Medical Mask Step 8为标题的图片\n",
    "8\n",
    "将口罩贴合脸部和下巴底下。彻底固定口罩后，稍微调整一下，让它盖着脸部和嘴巴，并将下缘拉到下巴底下。[16]\n",
    "专家提示\n",
    "World Health OrganizationWORLD HEALTH ORGANIZATION\n",
    "全球公共卫生机构\n",
    "专家警告：在戴口罩的同时，还必须经常用含酒精的手消毒剂或肥皂和水洗手，才能达到最佳的防护效果。\n",
    "\n",
    "方法\n",
    "3\n",
    "脱口罩\n",
    "以Put on a Medical Mask Step 9为标题的图片\n",
    "1\n",
    "清洁双手。你可能需要先洗手，具体取决于你脱口罩之前用手做了什么。也许你需要先脱下医用手套，洗手，再脱口罩。[17]\n",
    "以Put on a Medical Mask Step 10为标题的图片\n",
    "2\n",
    "小心地脱下口罩。一般来说，脱口罩只需要触碰边缘、耳挂带、绑带或松紧带。口罩朝外那一面可能被污染了，不要触碰它。[18]\n",
    "耳挂带 — 双手抓住挂在耳朵上的耳挂带，将它们取下来。\n",
    "绑带 — 先用手解开下缘带子，然后解开上缘带子。抓着上缘带子把口罩取下来。\n",
    "头带 — 用手将下缘的松紧带向上拉过头，然后将上缘的松紧带也向上拉过头。抓着上缘松紧带，把口罩取下来。\n",
    "以Put on a Medical Mask Step 11为标题的图片\n",
    "3\n",
    "安全处置口罩。医用口罩只能用一次。所以，脱下口罩后要立刻丢进垃圾桶。[19]\n",
    "医院通常设有生物危害物品专用垃圾桶，用于丢弃用过的口罩和手套。\n",
    "如果不是在医院，那就将被污染的口罩放进一个塑料袋里，扎紧袋口，然后丢进垃圾桶。\n",
    "以Put on a Medical Mask Step 12为标题的图片\n",
    "4\n",
    "再次洗手。安全地处置口罩后，再次把手洗干净，防止它们被脏口罩污染。[20]\n",
    "小提示\n",
    "每当需要清洁双手时，最好使用肥皂和水。如果没有肥皂和水，可以用酒精含量至少60%的免洗洗手液。免洗洗手液的用量必须足以让你揉搓双手超过10秒才挥发。[21]\n",
    "美国疾病控制与预防中心的网站上有医用口罩和N95口罩的详细信息：http://www.cdc.gov/niosh/npptl/topics/respirators/disp_part/respsource3healthcare.html 。网站上展示了各种口罩的照片和对比，并列出了食品及药物管理局认可的口罩生产商。\n",
    "警告\n",
    "医用口罩只供一个人使用一次。用过的口罩必须丢掉，不能重复使用。[22]\n",
    "五金店有售卖多种非医用口罩。这些口罩应用于木加工、金属制造或其它类型的建筑行业，避免灰尘颗粒进入工人的口鼻。它们不受食品及药物管理局控管，不得用于医疗环境。\"\"\""
   ]
  },
  {
   "cell_type": "code",
   "execution_count": 76,
   "id": "0cdb66b3-c2bf-41dc-a13f-a0ff79e20c0f",
   "metadata": {},
   "outputs": [
    {
     "name": "stdout",
     "output_type": "stream",
     "text": [
      "50.2 µs ± 1.09 µs per loop (mean ± std. dev. of 7 runs, 10000 loops each)\n"
     ]
    }
   ],
   "source": [
    "%timeit list(tokenize(text))"
   ]
  },
  {
   "cell_type": "code",
   "execution_count": 66,
   "id": "ee67e311-2c5c-4f25-94fd-4bcaa21d5d84",
   "metadata": {},
   "outputs": [],
   "source": [
    "a = list(tokenize(text,100))"
   ]
  },
  {
   "cell_type": "code",
   "execution_count": 67,
   "id": "e9a63ccb-7d9e-4295-9a1d-a1201f8eb3ce",
   "metadata": {},
   "outputs": [],
   "source": [
    "mp3s = [transform(text) for text in a]"
   ]
  },
  {
   "cell_type": "code",
   "execution_count": 68,
   "id": "c27e63e5-dde3-4018-873c-05da4781a747",
   "metadata": {},
   "outputs": [
    {
     "data": {
      "text/plain": [
       "32"
      ]
     },
     "execution_count": 68,
     "metadata": {},
     "output_type": "execute_result"
    }
   ],
   "source": [
    "len(mp3s)"
   ]
  },
  {
   "cell_type": "code",
   "execution_count": 69,
   "id": "18484de2-d017-45b7-84f9-480f040c61a1",
   "metadata": {},
   "outputs": [
    {
     "data": {
      "text/html": [
       "\n",
       "                <audio  controls=\"controls\" >\n",
       "                    <source src=\"data:audio/wav;base64,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\" type=\"audio/wav\" />\n",
       "                    Your browser does not support the audio element.\n",
       "                </audio>\n",
       "              "
      ],
      "text/plain": [
       "<IPython.lib.display.Audio object>"
      ]
     },
     "execution_count": 69,
     "metadata": {},
     "output_type": "execute_result"
    }
   ],
   "source": [
    "ipd.Audio(data=mp3s[19])"
   ]
  },
  {
   "cell_type": "code",
   "execution_count": null,
   "id": "0140ee26-b12f-4448-bc3d-706abb517f01",
   "metadata": {},
   "outputs": [],
   "source": []
  }
 ],
 "metadata": {
  "kernelspec": {
   "display_name": "Python 3",
   "language": "python",
   "name": "python3"
  },
  "language_info": {
   "codemirror_mode": {
    "name": "ipython",
    "version": 3
   },
   "file_extension": ".py",
   "mimetype": "text/x-python",
   "name": "python",
   "nbconvert_exporter": "python",
   "pygments_lexer": "ipython3",
   "version": "3.9.5"
  }
 },
 "nbformat": 4,
 "nbformat_minor": 5
}
