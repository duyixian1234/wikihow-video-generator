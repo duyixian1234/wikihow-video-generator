{
 "cells": [
  {
   "cell_type": "code",
   "execution_count": 1,
   "id": "afb1ae58-529a-40d1-b7ca-0bdc0206778f",
   "metadata": {},
   "outputs": [],
   "source": [
    "%load_ext autoreload\n",
    "%autoreload 2"
   ]
  },
  {
   "cell_type": "code",
   "execution_count": 19,
   "id": "c0d7e381-433a-4701-a370-2d19f4b999a0",
   "metadata": {},
   "outputs": [],
   "source": [
    "import IPython.display as ipd\n",
    "from pathlib import Path"
   ]
  },
  {
   "cell_type": "code",
   "execution_count": 9,
   "id": "7a115ab5-d5e7-4856-bd1b-9006aa6b7bcd",
   "metadata": {},
   "outputs": [],
   "source": [
    "from api import transform"
   ]
  },
  {
   "cell_type": "code",
   "execution_count": 40,
   "id": "efe27f4a-3e3d-4cef-b731-58bcfd80ea54",
   "metadata": {},
   "outputs": [],
   "source": [
    "def tokenize(text:str, width:int=100):\n",
    "    sentences = text.split('。')\n",
    "    current = []\n",
    "    size = 0\n",
    "    for sentence in sentences:\n",
    "        if size + ( length :=len(sentence)) <= width:\n",
    "            current.append(sentence)\n",
    "            size += length\n",
    "        else:\n",
    "            yield '。'.join(current)\n",
    "            current = [sentence]\n",
    "            size = length\n",
    "    if current:\n",
    "        yield \"\".join(current)"
   ]
  },
  {
   "cell_type": "code",
   "execution_count": 41,
   "id": "08c44633-6f47-43c3-b9a4-1be15f9346f1",
   "metadata": {},
   "outputs": [],
   "source": [
    "text = \"\"\"医用口罩也被称为手术口罩，主要是医护人员用来保护自己和他人，避免接触经由空气传播的传染病、体液和微粒物质。[1] 在传染病爆发期间，卫生部也会建议民众戴医用口罩来保护自己。这些口罩都是比较宽松的，能完全遮住鼻子和嘴巴。[2][3]\n",
    "\n",
    "方法\n",
    "1\n",
    "了解医用口罩\n",
    "以Put on a Medical Mask Step 13为标题的图片\n",
    "1\n",
    "了解医用口罩的保护作用。医用或手术口罩是用来遮盖嘴巴和鼻子的，所使用的材质可以阻挡大的颗粒、喷雾和飞溅物，所有这些都可能含有对身体有害的病毒或细菌。[4]\n",
    "然而，小的颗粒还是能穿透医用口罩，而且由于口罩和皮肤之间仍然有缝隙，颗粒也能从这些开口处穿过。\n",
    "以Put on a Medical Mask Step 14为标题的图片\n",
    "2\n",
    "了解普通医用口罩和N95口罩的差别。N95口罩被医护人员用来阻挡95%的微小颗粒。和普通医用口罩不同，它们更贴合脸部和皮肤，可以过滤悬浮颗粒。[5]\n",
    "虽然N95口罩可以阻挡95%的0.3微米颗粒，但还是有5%的有害颗粒可能穿透它。\n",
    "N95口罩不适合儿童或蓄胡须的人佩戴。\n",
    "有的N95口罩有呼气阀，用于减少口罩内湿气积聚，好让佩戴者呼吸更顺畅。不过，它们不能在无菌环境使用，因为呼气阀会让空气从口罩内部流出。这些空气未经过滤，而且可能受污染。[6]\n",
    "一般来说，每款N95口罩应该附带生产商详细的佩戴和摘除指示。为了确保你和病人获得适当的保护，一定要遵守这些指示，并以它们为准。职业安全与健康管理局（OSHA）也要求使用NP5口罩前，必须接受正确佩戴方法的培训。[7]\n",
    "方法\n",
    "2\n",
    "戴口罩\n",
    "以Put on a Medical Mask Step 1为标题的图片\n",
    "1\n",
    "清洁双手。触碰干净的医用口罩之前，一定要用肥皂和水把双手洗得干干净净。[8]\n",
    "沾湿双手，抹上肥皂，互相揉搓至少20秒才冲洗干净。[9]\n",
    "用干净的纸巾擦干手，然后将纸巾丢进垃圾桶。你可以先用擦过手的纸巾开门或关门，再把它们丢掉。\n",
    "小提示：洗手后，开关门时用纸巾包住门把手，然后把用过的纸巾丢弃。\n",
    "\n",
    "以Put on a Medical Mask Step 2为标题的图片\n",
    "2\n",
    "检查医用口罩是否有瑕疵。从盒子中取出一个没有用过的新口罩后，一定要先检查是否有瑕疵、破洞或裂缝。如果有，把它丢掉，再重新拿一个没有用过的新口罩。[10]\n",
    "以Put on a Medical Mask Step 3为标题的图片\n",
    "3\n",
    "正确辨别口罩的上方。为了让口罩尽量紧贴皮肤，口罩上方有可以顺着鼻子轮廓随意弯曲的硬条。戴口罩之前，确保可弯曲的一侧朝上。[11]\n",
    "以Put on a Medical Mask Step 4为标题的图片\n",
    "4\n",
    "确保正确的一面朝外。大部分医用口罩内面是白色的，外面则是其它颜色。戴口罩之前，确保白色那一面朝向你的脸。[12]\n",
    "以Put on a Medical Mask Step 5为标题的图片\n",
    "5\n",
    "戴上口罩。医用口罩有很多类型，每一种的戴法都不一样。[13]\n",
    "耳挂带 — 有的口罩两侧有耳挂带，通常由弹性材料做成，所以可以拉伸。双手拿起耳挂带，分别挂到两侧耳朵上。\n",
    "绑带 — 有的口罩有带子让你绑在头的后面。大部分口罩上缘和下缘都有绑带。拿起上缘绑带，将它们绕到头顶的后面打个蝴蝶结。\n",
    "头带 — 有的口罩有两条松紧带，可以拉到头的后面，而不是挂在耳朵。将口罩举到面前，将上缘的松紧带拉过头，置于头顶。然后将下缘的松紧带拉过头，置于后脑勺。\n",
    "以Put on a Medical Mask Step 6为标题的图片\n",
    "6\n",
    "调整鼻夹。把医用口罩戴上后，用食指和拇指捏一捏鼻梁周围可弯曲的硬条。[14]\n",
    "以Put on a Medical Mask Step 7为标题的图片\n",
    "7\n",
    "如有必要，系上口罩的下缘带子。如果口罩上下都有绑带，现在可以将下缘绑带系在后脑勺。由于调整鼻夹会影响口罩的贴合度，最好调整好鼻夹后才系下缘绑带。[15]\n",
    "如果你已经系了下缘绑带，可以根据需要重新系紧一些。\n",
    "以Put on a Medical Mask Step 8为标题的图片\n",
    "8\n",
    "将口罩贴合脸部和下巴底下。彻底固定口罩后，稍微调整一下，让它盖着脸部和嘴巴，并将下缘拉到下巴底下。[16]\n",
    "专家提示\n",
    "World Health OrganizationWORLD HEALTH ORGANIZATION\n",
    "全球公共卫生机构\n",
    "专家警告：在戴口罩的同时，还必须经常用含酒精的手消毒剂或肥皂和水洗手，才能达到最佳的防护效果。\n",
    "\n",
    "方法\n",
    "3\n",
    "脱口罩\n",
    "以Put on a Medical Mask Step 9为标题的图片\n",
    "1\n",
    "清洁双手。你可能需要先洗手，具体取决于你脱口罩之前用手做了什么。也许你需要先脱下医用手套，洗手，再脱口罩。[17]\n",
    "以Put on a Medical Mask Step 10为标题的图片\n",
    "2\n",
    "小心地脱下口罩。一般来说，脱口罩只需要触碰边缘、耳挂带、绑带或松紧带。口罩朝外那一面可能被污染了，不要触碰它。[18]\n",
    "耳挂带 — 双手抓住挂在耳朵上的耳挂带，将它们取下来。\n",
    "绑带 — 先用手解开下缘带子，然后解开上缘带子。抓着上缘带子把口罩取下来。\n",
    "头带 — 用手将下缘的松紧带向上拉过头，然后将上缘的松紧带也向上拉过头。抓着上缘松紧带，把口罩取下来。\n",
    "以Put on a Medical Mask Step 11为标题的图片\n",
    "3\n",
    "安全处置口罩。医用口罩只能用一次。所以，脱下口罩后要立刻丢进垃圾桶。[19]\n",
    "医院通常设有生物危害物品专用垃圾桶，用于丢弃用过的口罩和手套。\n",
    "如果不是在医院，那就将被污染的口罩放进一个塑料袋里，扎紧袋口，然后丢进垃圾桶。\n",
    "以Put on a Medical Mask Step 12为标题的图片\n",
    "4\n",
    "再次洗手。安全地处置口罩后，再次把手洗干净，防止它们被脏口罩污染。[20]\n",
    "小提示\n",
    "每当需要清洁双手时，最好使用肥皂和水。如果没有肥皂和水，可以用酒精含量至少60%的免洗洗手液。免洗洗手液的用量必须足以让你揉搓双手超过10秒才挥发。[21]\n",
    "美国疾病控制与预防中心的网站上有医用口罩和N95口罩的详细信息：http://www.cdc.gov/niosh/npptl/topics/respirators/disp_part/respsource3healthcare.html 。网站上展示了各种口罩的照片和对比，并列出了食品及药物管理局认可的口罩生产商。\n",
    "警告\n",
    "医用口罩只供一个人使用一次。用过的口罩必须丢掉，不能重复使用。[22]\n",
    "五金店有售卖多种非医用口罩。这些口罩应用于木加工、金属制造或其它类型的建筑行业，避免灰尘颗粒进入工人的口鼻。它们不受食品及药物管理局控管，不得用于医疗环境。\"\"\""
   ]
  },
  {
   "cell_type": "code",
   "execution_count": 55,
   "id": "ee67e311-2c5c-4f25-94fd-4bcaa21d5d84",
   "metadata": {},
   "outputs": [],
   "source": [
    "a = list(tokenize(text,100))"
   ]
  },
  {
   "cell_type": "code",
   "execution_count": 56,
   "id": "e9a63ccb-7d9e-4295-9a1d-a1201f8eb3ce",
   "metadata": {},
   "outputs": [],
   "source": [
    "mp3s = [transform(text) for text in a]"
   ]
  },
  {
   "cell_type": "code",
   "execution_count": 57,
   "id": "c27e63e5-dde3-4018-873c-05da4781a747",
   "metadata": {},
   "outputs": [
    {
     "data": {
      "text/plain": [
       "32"
      ]
     },
     "execution_count": 57,
     "metadata": {},
     "output_type": "execute_result"
    }
   ],
   "source": [
    "len(mp3s)"
   ]
  },
  {
   "cell_type": "code",
   "execution_count": 59,
   "id": "6ffef3a8-6030-4671-8d50-b1e10d3914a5",
   "metadata": {},
   "outputs": [
    {
     "data": {
      "text/plain": [
       "33696"
      ]
     },
     "execution_count": 59,
     "metadata": {},
     "output_type": "execute_result"
    }
   ],
   "source": [
    "Path('01.mp3').write_bytes(mp3s[20])"
   ]
  },
  {
   "cell_type": "code",
   "execution_count": 60,
   "id": "18484de2-d017-45b7-84f9-480f040c61a1",
   "metadata": {},
   "outputs": [
    {
     "data": {
      "text/html": [
       "\n",
       "                <audio  controls=\"controls\" >\n",
       "                    <source src=\"data:audio/wav;base64,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\" type=\"audio/wav\" />\n",
       "                    Your browser does not support the audio element.\n",
       "                </audio>\n",
       "              "
      ],
      "text/plain": [
       "<IPython.lib.display.Audio object>"
      ]
     },
     "execution_count": 60,
     "metadata": {},
     "output_type": "execute_result"
    }
   ],
   "source": [
    "ipd.Audio(data=mp3s[20])"
   ]
  },
  {
   "cell_type": "code",
   "execution_count": 21,
   "id": "921c62ef-fc19-4952-82f0-b6cf0ffbf74e",
   "metadata": {},
   "outputs": [],
   "source": [
    "import tencentcloud"
   ]
  },
  {
   "cell_type": "code",
   "execution_count": 22,
   "id": "5445e02f-68a7-495b-9572-180ad5dc783d",
   "metadata": {},
   "outputs": [],
   "source": [
    "# -*- coding=utf-8\n",
    "from qcloud_cos import CosConfig\n",
    "from qcloud_cos import CosS3Client\n",
    "from qcloud_cos import CosServiceError\n",
    "from qcloud_cos import CosClientError"
   ]
  },
  {
   "cell_type": "code",
   "execution_count": 24,
   "id": "d0675b86-e771-4128-b5f5-d53248590c7d",
   "metadata": {},
   "outputs": [],
   "source": [
    "from api import createCredential"
   ]
  },
  {
   "cell_type": "code",
   "execution_count": 25,
   "id": "37b38521-cd0b-49bd-a06e-c2d0a8aceda6",
   "metadata": {},
   "outputs": [],
   "source": [
    "cred = createCredential()"
   ]
  },
  {
   "cell_type": "code",
   "execution_count": 27,
   "id": "48af52e9-84db-4d2c-a8fb-cab61015a22c",
   "metadata": {},
   "outputs": [],
   "source": [
    "config = CosConfig(Secret_id=cred.secretId,Secret_key=cred.secretKey,Region='ap-shanghai')"
   ]
  },
  {
   "cell_type": "code",
   "execution_count": 29,
   "id": "5f464ba0-2eaf-4bc6-8eb1-7e863b80d0f0",
   "metadata": {},
   "outputs": [],
   "source": [
    "client = CosS3Client(config)  "
   ]
  },
  {
   "cell_type": "code",
   "execution_count": 31,
   "id": "80e5a6c4-7968-48f8-9f8d-234daf09cfed",
   "metadata": {},
   "outputs": [],
   "source": [
    "resp = client.put_object(Bucket='wikihow-1251461201',Body=mp3,Key='01.mp3',EnableMD5=True)"
   ]
  },
  {
   "cell_type": "code",
   "execution_count": 32,
   "id": "8f931a90-1ff1-4721-84ca-00470a562fc1",
   "metadata": {},
   "outputs": [
    {
     "data": {
      "text/plain": [
       "{'Content-Length': '0',\n",
       " 'Connection': 'keep-alive',\n",
       " 'Date': 'Tue, 11 May 2021 13:27:11 GMT',\n",
       " 'ETag': '\"1a8c25cc06b30dd9397e8de93a303f1a\"',\n",
       " 'Server': 'tencent-cos',\n",
       " 'x-cos-hash-crc64ecma': '2351714367057269986',\n",
       " 'x-cos-request-id': 'NjA5YTg2MmZfNDNhNjgwOV84NWJkXzFkMWE1Mjk='}"
      ]
     },
     "execution_count": 32,
     "metadata": {},
     "output_type": "execute_result"
    }
   ],
   "source": [
    "resp"
   ]
  },
  {
   "cell_type": "code",
   "execution_count": 34,
   "id": "108084d8-93ff-446e-a885-96d9f747447c",
   "metadata": {},
   "outputs": [],
   "source": [
    "resp = client.list_objects(Bucket='wikihow-1251461201')"
   ]
  },
  {
   "cell_type": "code",
   "execution_count": 35,
   "id": "d4d00a85-0e83-455b-8835-b05e38c969c5",
   "metadata": {},
   "outputs": [
    {
     "data": {
      "text/plain": [
       "{'Name': 'wikihow-1251461201',\n",
       " 'EncodingType': 'url',\n",
       " 'Prefix': None,\n",
       " 'Marker': None,\n",
       " 'MaxKeys': '1000',\n",
       " 'IsTruncated': 'false',\n",
       " 'Contents': [{'Key': '01.mp3',\n",
       "   'LastModified': '2021-05-11T13:27:11.000Z',\n",
       "   'ETag': '\"1a8c25cc06b30dd9397e8de93a303f1a\"',\n",
       "   'Size': '54504',\n",
       "   'Owner': {'ID': '1251461201', 'DisplayName': '1251461201'},\n",
       "   'StorageClass': 'STANDARD'}]}"
      ]
     },
     "execution_count": 35,
     "metadata": {},
     "output_type": "execute_result"
    }
   ],
   "source": [
    "resp"
   ]
  },
  {
   "cell_type": "code",
   "execution_count": 36,
   "id": "781c9ec3-3918-4151-b2d4-5116063ba402",
   "metadata": {},
   "outputs": [],
   "source": [
    "def tokenize(text:str):\n",
    "    sentences = text.split('。')\n",
    "    current = []\n",
    "    size = 0\n",
    "    for sentence in sentences:\n",
    "        if size + ( length :=len(sentence)) <= 100:\n",
    "            current.append(sentence)\n",
    "            size += length\n",
    "        else:\n",
    "            yield '。'.join(current)\n",
    "            current = [sentence]\n",
    "            size = length\n",
    "    if current:\n",
    "        yield \"\".join(current)"
   ]
  },
  {
   "cell_type": "code",
   "execution_count": 37,
   "id": "c3f4ee8a-c699-4e17-8851-3272eefc4319",
   "metadata": {},
   "outputs": [
    {
     "data": {
      "text/plain": [
       "['医用口罩也被称为手术口罩，主要是医护人员用来保护自己和他人，避免接触经由空气传播的传染病、体液和微粒物质。[1] 在传染病爆发期间，卫生部也会建议民众戴医用口罩来保护自己',\n",
       " '这些口罩都是比较宽松的，能完全遮住鼻子和嘴巴[2][3]']"
      ]
     },
     "execution_count": 37,
     "metadata": {},
     "output_type": "execute_result"
    }
   ],
   "source": [
    "list(tokenize(\"医用口罩也被称为手术口罩，主要是医护人员用来保护自己和他人，避免接触经由空气传播的传染病、体液和微粒物质。[1] 在传染病爆发期间，卫生部也会建议民众戴医用口罩来保护自己。这些口罩都是比较宽松的，能完全遮住鼻子和嘴巴。[2][3]\"))"
   ]
  },
  {
   "cell_type": "code",
   "execution_count": null,
   "id": "43770a1a-784c-4a53-aaed-b9f1922af069",
   "metadata": {},
   "outputs": [],
   "source": []
  }
 ],
 "metadata": {
  "kernelspec": {
   "display_name": "Python 3",
   "language": "python",
   "name": "python3"
  },
  "language_info": {
   "codemirror_mode": {
    "name": "ipython",
    "version": 3
   },
   "file_extension": ".py",
   "mimetype": "text/x-python",
   "name": "python",
   "nbconvert_exporter": "python",
   "pygments_lexer": "ipython3",
   "version": "3.9.5"
  }
 },
 "nbformat": 4,
 "nbformat_minor": 5
}
